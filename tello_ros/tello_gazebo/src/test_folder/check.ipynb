{
 "cells": [
  {
   "cell_type": "code",
   "execution_count": 19,
   "metadata": {},
   "outputs": [],
   "source": [
    "import rclpy\n",
    "from rclpy.node import Node\n",
    "import cv2\n",
    "import numpy as np\n",
    "from matplotlib import pyplot as plt\n",
    "from sensor_msgs.msg import Image\n",
    "from cv_bridge import CvBridge\n",
    "from tello_msgs.srv import TelloAction\n",
    "from geometry_msgs.msg import Twist\n",
    "import time\n",
    "import signal\n",
    "import sys\n",
    "import cv2\n",
    "import numpy as np\n",
    "import tkinter as tk\n",
    "from tkinter import Scale\n",
    "import os\n",
    "from ament_index_python.packages import get_package_share_directory"
   ]
  },
  {
   "cell_type": "code",
   "execution_count": 6,
   "metadata": {},
   "outputs": [
    {
     "data": {
      "text/plain": [
       "'/home/cyclone_20/drone_racing_ros2_ws/src/drone_racing_ros2/tello_ros/tello_gazebo/src/test_folder'"
      ]
     },
     "execution_count": 6,
     "metadata": {},
     "output_type": "execute_result"
    }
   ],
   "source": [
    "current_directory = os.getcwd()\n",
    "current_directory"
   ]
  },
  {
   "cell_type": "code",
   "execution_count": 14,
   "metadata": {},
   "outputs": [
    {
     "data": {
      "text/plain": [
       "<function posix.getcwd()>"
      ]
     },
     "execution_count": 14,
     "metadata": {},
     "output_type": "execute_result"
    }
   ],
   "source": [
    "os.getcwd"
   ]
  },
  {
   "cell_type": "code",
   "execution_count": 16,
   "metadata": {},
   "outputs": [
    {
     "data": {
      "text/plain": [
       "'/home/cyclone_20/drone_racing_ros2_ws/src/drone_racing_ros2/tello_ros/tello_gazebo/src/test_folder'"
      ]
     },
     "execution_count": 16,
     "metadata": {},
     "output_type": "execute_result"
    }
   ],
   "source": [
    "os.path.abspath(os.getcwd())"
   ]
  },
  {
   "cell_type": "code",
   "execution_count": 29,
   "metadata": {},
   "outputs": [
    {
     "data": {
      "text/plain": [
       "'/home/cyclone_20/drone_racing_ros2_ws/src/drone_racing_ros2/tello_ros/tello_gazebo/rc'"
      ]
     },
     "execution_count": 29,
     "metadata": {},
     "output_type": "execute_result"
    }
   ],
   "source": [
    "Exec_path = os.path.join(get_package_share_directory('tello_gazebo'))\n",
    "Exec_path = os.path.abspath(os.path.join(urdf_path, \"../../../..\",\"src/\",\"drone_racing_ros2/\",\"tello_ros/\",\"tello_gazebo/\",\"src/\"))\n",
    "urdf_path"
   ]
  },
  {
   "cell_type": "code",
   "execution_count": null,
   "metadata": {},
   "outputs": [],
   "source": [
    "/home/cyclone_20/drone_racing_ros2_ws/src/drone_racing_ros2/tello_ros/tello_gazebo/src/drone_controller.py"
   ]
  },
  {
   "cell_type": "code",
   "execution_count": 12,
   "metadata": {},
   "outputs": [],
   "source": [
    "\n",
    "def update_image(event=None):\n",
    "    root.after(200, _update_image)\n",
    "\n",
    "def _update_image():\n",
    "    # Get current slider values\n",
    "    h_low = h_low_slider.get()\n",
    "    h_high = h_high_slider.get()\n",
    "    s_low = s_low_slider.get()\n",
    "    s_high = s_high_slider.get()\n",
    "    l_low = l_low_slider.get()\n",
    "    l_high = l_high_slider.get()\n",
    "\n",
    "    # Convert BGR to HLS\n",
    "    hls_image = cv2.cvtColor(original_image, cv2.COLOR_BGR2HLS)\n",
    "\n",
    "    # Create lower and upper bounds for thresholding\n",
    "    lower_bound = np.array([h_low, l_low, s_low])\n",
    "    upper_bound = np.array([h_high, l_high, s_high])\n",
    "\n",
    "    # Threshold the HLS image\n",
    "    mask = cv2.inRange(hls_image, lower_bound, upper_bound)\n",
    "\n",
    "    # Apply the mask to the original image\n",
    "    masked_image = cv2.bitwise_and(original_image, original_image, mask=mask)\n",
    "\n",
    "    # Display the masked image\n",
    "    cv2.imshow('Masked Image', mask)\n",
    "    cv2.waitKey(1)\n",
    "\n",
    "# Load an image\n",
    "original_image = cv2.imread('all_objects_no_sun.jpg')\n",
    "\n",
    "# Create a Tkinter window\n",
    "root = tk.Tk()\n",
    "root.title('HSL Thresholding')\n",
    "\n",
    "# Create sliders for HSL thresholding\n",
    "h_low_slider = Scale(root, label='Hue Low', from_=0, to=255, orient=tk.HORIZONTAL, command=update_image)\n",
    "h_low_slider.pack()\n",
    "h_high_slider = Scale(root, label='Hue High', from_=0, to=255, orient=tk.HORIZONTAL, command=update_image)\n",
    "h_high_slider.pack()\n",
    "s_low_slider = Scale(root, label='Saturation Low', from_=0, to=255, orient=tk.HORIZONTAL, command=update_image)\n",
    "s_low_slider.pack()\n",
    "s_high_slider = Scale(root, label='Saturation High', from_=0, to=255, orient=tk.HORIZONTAL, command=update_image)\n",
    "s_high_slider.pack()\n",
    "l_low_slider = Scale(root, label='Lightness Low', from_=0, to=255, orient=tk.HORIZONTAL, command=update_image)\n",
    "l_low_slider.pack()\n",
    "l_high_slider = Scale(root, label='Lightness High', from_=0, to=255, orient=tk.HORIZONTAL, command=update_image)\n",
    "l_high_slider.pack()\n",
    "\n",
    "# Display the original image\n",
    "cv2.imshow('Original Image', original_image)\n",
    "\n",
    "# Run the Tkinter main loop\n",
    "root.mainloop()\n",
    "\n",
    "# Close OpenCV windows\n",
    "cv2.destroyAllWindows()\n"
   ]
  },
  {
   "cell_type": "code",
   "execution_count": null,
   "metadata": {},
   "outputs": [],
   "source": [
    "image = cv2.imread('all_objects_no_sun.jpg')\n",
    "# image = cv2.imread('stop_sign.jpg')\n",
    "# image = cv2.imread('areana.png')\n",
    "# image = cv2.imread('circle.png')\n",
    "# image = cv2.imread('back.jpg')"
   ]
  },
  {
   "cell_type": "code",
   "execution_count": null,
   "metadata": {},
   "outputs": [],
   "source": [
    "hsv_image = cv2.cvtColor(image,cv2.COLOR_BGR2HLS)\n",
    "# Red\n",
    "lower_red = np.array([0, 0, 50])\n",
    "upper_red = np.array([255, 255, 255])\n",
    "# ## green\n",
    "# lower_red = np.array([25, 52, 72])\n",
    "# upper_red = np.array([102, 255, 255])\n",
    "# ## orange\n",
    "# lower_red = np.array([6, 50, 50])\n",
    "# upper_red = np.array([40, 255, 255])"
   ]
  },
  {
   "cell_type": "code",
   "execution_count": null,
   "metadata": {},
   "outputs": [],
   "source": [
    "mask = cv2.inRange(hsv_image, lower_red, upper_red)\n",
    "\n",
    "kernel = np.ones((10, 10), np.uint8)\n",
    "filled_image1 = cv2.morphologyEx(mask, cv2.MORPH_CLOSE, kernel)\n",
    "kernel = np.ones((3, 3), np.uint8)\n",
    "kernel1 = np.ones((5, 5), np.uint8)\n",
    "eroded_image1 = cv2.erode(filled_image1, kernel1, iterations=1)\n",
    "\n",
    "adaptive_thresh = cv2.adaptiveThreshold(mask, 255, cv2.ADAPTIVE_THRESH_GAUSSIAN_C, cv2.THRESH_BINARY, 11, 2)\n",
    "erode_kernel = np.ones((1, 1), np.uint8)\n",
    "eroded_image2 = cv2.erode(mask, kernel1, iterations=1)\n",
    "fill_kerenl = np.ones((5, 5), np.uint8)\n",
    "filled_image2 = cv2.morphologyEx(eroded_image2, cv2.MORPH_CLOSE, fill_kerenl)\n",
    "close_kernel = np.ones((5,5), np.uint8) \n",
    "# Perform opening\n",
    "final = cv2.morphologyEx(filled_image2, cv2.MORPH_OPEN, close_kernel)\n",
    "# fill_kerenl = np.ones((10, 10), np.uint8)\n",
    "# final = cv2.morphologyEx(opening, cv2.MORPH_CLOSE, fill_kerenl)\n",
    "# opening = cv2.morphologyEx(filled_image2, cv2.MORPH_CLOSE, kernel)\n",
    "# lurred_image = cv2.GaussianBlur(eroded_image, (3,3), 0)\n",
    "\n",
    "# cv2.namedWindow(\"image with eroded\")\n",
    "# cv2.imshow(\"original\", filled_image)\n",
    "# cv2.namedWindow(\"original\")\n",
    "# cv2.imshow(\"image with eroded\", mask)\n",
    "# cv2.waitKey(0)\n",
    "# cv2.destroyAllWindows()\n",
    "\n",
    "# Plotting subplots\n",
    "fig, axes = plt.subplots(2, 3, figsize=(12, 10))\n",
    "\n",
    "\n",
    "axes[0,0].imshow(mask, cmap='gray')\n",
    "axes[0,0].set_title(\"masked\")\n",
    "axes[0,1].imshow(filled_image1, cmap='gray')\n",
    "axes[0,1].set_title(\"filed\")\n",
    "axes[0,2].imshow(eroded_image1, cmap='gray')\n",
    "axes[0,2].set_title(\"erroded\")\n",
    "\n",
    "axes[1,0].imshow(adaptive_thresh, cmap='gray')\n",
    "axes[1,0].set_title(\"erode\")\n",
    "axes[1,1].imshow(filled_image2, cmap='gray')\n",
    "axes[1,1].set_title(\"filed\")\n",
    "axes[1,2].imshow(final, cmap='gray')\n",
    "axes[1,2].set_title(\"closed\")\n"
   ]
  },
  {
   "cell_type": "code",
   "execution_count": null,
   "metadata": {},
   "outputs": [],
   "source": [
    "# for method in methods:\n",
    "#     img2 = image.copy()\n",
    "#     result = cv2.matchTemplate(template,img2, method)\n",
    "#     min_val, max_val, min_loc, max_loc = cv2.minMaxLoc(result)\n",
    "\n",
    "#     if method in [cv2.TM_SQDIFF, cv2.TM_SQDIFF_NORMED]:\n",
    "#         location = min_loc\n",
    "#     else:\n",
    "#         location = max_loc\n",
    "\n",
    "#     w, h = template.shape[::-1]  # Get the width and height of the template\n",
    "#     bottom_right = (location[0] + w, location[1] + h)    \n",
    "#     cv2.rectangle(img2, location, bottom_right, 255, 5)\n",
    "#     cv2.imshow('Match', areana)\n",
    "#     cv2.waitKey(0)\n",
    "#     cv2.destroyAllWindows()\n"
   ]
  },
  {
   "cell_type": "code",
   "execution_count": null,
   "metadata": {},
   "outputs": [],
   "source": [
    "# cv2.imshow(\"template\", template)\n",
    "# cv2.waitKey(0)\n",
    "# cv2.destroyAllWindows()"
   ]
  },
  {
   "cell_type": "code",
   "execution_count": null,
   "metadata": {},
   "outputs": [],
   "source": [
    "# # lower_red = np.array([0, 20, 50])\n",
    "# # upper_red = np.array([5, 255, 255])\n",
    "\n",
    "# # orange\n",
    "# # lower_red = np.array([8, 40, 20])\n",
    "# # upper_red = np.array([15, 255, 255])\n",
    "\n",
    "\n",
    "# # Green\n",
    "# lower_red = np.array([25, 52, 72])\n",
    "# upper_red = np.array([102, 255, 255])\n",
    "\n",
    "\n",
    "# # Threshold the HSV image to get only red colors\n",
    "# mask = cv2.inRange(hsv_image, lower_red, upper_red)\n",
    "# # cv2.imwrite(\"masked.jpg\",mask)\n",
    "# # Dilate the green mask to fill in small holes\n",
    "# kernel = np.ones((3, 3), np.uint8)\n",
    "# kernel1 = np.ones((5, 5), np.uint8)\n",
    "# green_mask_dilated = cv2.dilate(mask, kernel)\n",
    "# filled_image = cv2.morphologyEx(green_mask_dilated, cv2.MORPH_CLOSE, kernel1)\n",
    "# eroded_image = cv2.erode(filled_image, kernel, iterations=1)\n",
    "# green_mask_dilated1 = cv2.dilate(mask, kernel1)"
   ]
  },
  {
   "cell_type": "code",
   "execution_count": null,
   "metadata": {},
   "outputs": [],
   "source": [
    "# contours, _ = cv2.findContours(eroded_image, cv2.RETR_TREE, cv2.CHAIN_APPROX_SIMPLE)"
   ]
  },
  {
   "cell_type": "code",
   "execution_count": null,
   "metadata": {},
   "outputs": [],
   "source": [
    "\n",
    "\n",
    "# # Convert the image to grayscale\n",
    "# gray = cv2.cvtColor(image, cv2.COLOR_BGR2GRAY)\n",
    "\n",
    "# # Apply Gaussian blur to reduce noise\n",
    "# blurred = cv2.GaussianBlur(gray, (5, 5), 0)\n",
    "\n",
    "# # Threshold the image to obtain a binary image\n",
    "# _, thresh = cv2.threshold(blurred, 127, 255, cv2.THRESH_BINARY)\n",
    "\n",
    "# # Find contours in the binary image\n",
    "# contours, _ = cv2.findContours(thresh, cv2.RETR_EXTERNAL, cv2.CHAIN_APPROX_SIMPLE)\n",
    "\n",
    "# # Iterate over all contours\n",
    "# for i, contour in enumerate(contours):\n",
    "#     # Create a copy of the original image\n",
    "#     contour_image = image.copy()\n",
    "    \n",
    "#     # Draw the contour shape on the copy of the original image\n",
    "#     cv2.drawContours(contour_image, [contour], 0, (0, 255, 0), 2)\n",
    "\n",
    "#     # Detect circles using Hough Circle Transform on the original image\n",
    "#     circles = cv2.HoughCircles(gray, cv2.HOUGH_GRADIENT, dp=1, minDist=50, param1=200, param2=30, minRadius=20, maxRadius=100)\n",
    "\n",
    "#     # Draw detected circles on the original image\n",
    "#     if circles is not None:\n",
    "#         circles = np.uint16(np.around(circles))\n",
    "#         for circle in circles[0]:\n",
    "#             center = (circle[0], circle[1])\n",
    "#             radius = circle[2]\n",
    "#             cv2.circle(image, center, radius, (0, 255, 0), 2)\n",
    "\n",
    "#     # Display the result\n",
    "#     cv2.imshow(f\"Contour {i+1}\", image)\n",
    "#     cv2.waitKey(0)\n",
    "#     cv2.destroyAllWindows()\n"
   ]
  },
  {
   "cell_type": "code",
   "execution_count": null,
   "metadata": {},
   "outputs": [],
   "source": [
    "# # Iterate over all contours\n",
    "\n",
    "# height_wdith_r = list()\n",
    "# for i, contour in enumerate(contours):\n",
    "#     contour_image= np.zeros_like(image)\n",
    "#     x, y, w, h = cv2.boundingRect(contour)\n",
    "#     height_wdith_r.append(round(h/w,2))\n",
    "#     # Approximate the contour shape\n",
    "#     epsilon = 0.01 * cv2.arcLength(contour, True) # You can adjust the epsilon value to fit your needs\n",
    "#     approx_shape = cv2.approxPolyDP(contour, epsilon, True)\n",
    "#     area = cv2.contourArea(contour)\n",
    "#     print(f\"shape {len(approx_shape)} area : {area} , ratio_h_w :{round(h/w,2)}\")\n",
    "#     # Draw the contour shape\n",
    "#     cv2.drawContours(contour_image, [approx_shape], 0, (0, 255, 0), 2)\n",
    "\n",
    "#     cv2.imshow(f\"Contour {i+1}\", contour_image)\n",
    "#     cv2.waitKey(0)\n",
    "#     cv2.destroyAllWindows()"
   ]
  }
 ],
 "metadata": {
  "kernelspec": {
   "display_name": "Python 3",
   "language": "python",
   "name": "python3"
  },
  "language_info": {
   "codemirror_mode": {
    "name": "ipython",
    "version": 3
   },
   "file_extension": ".py",
   "mimetype": "text/x-python",
   "name": "python",
   "nbconvert_exporter": "python",
   "pygments_lexer": "ipython3",
   "version": "3.8.10"
  }
 },
 "nbformat": 4,
 "nbformat_minor": 2
}
